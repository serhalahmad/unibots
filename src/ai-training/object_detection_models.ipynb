{
  "cells": [
    {
      "cell_type": "markdown",
      "metadata": {
        "id": "PhwmhwvvkOkJ"
      },
      "source": [
        "# Setup Env"
      ]
    },
    {
      "cell_type": "code",
      "execution_count": null,
      "metadata": {
        "colab": {
          "base_uri": "https://localhost:8080/"
        },
        "id": "l7A39zayo8Tk",
        "outputId": "12956139-27ea-4247-dc98-a924d0a7e78b"
      },
      "outputs": [
        {
          "name": "stdout",
          "output_type": "stream",
          "text": [
            "Mounted at /content/drive\n"
          ]
        }
      ],
      "source": [
        "# optional, for training on colab with data from Google Drive\n",
        "# from google.colab import drive\n",
        "# drive.mount('/content/drive')"
      ]
    },
    {
      "cell_type": "code",
      "execution_count": null,
      "metadata": {
        "id": "CqOx-plPkOkN"
      },
      "outputs": [],
      "source": [
        "# local install\n",
        "# !pip3 install torch torchvision torchaudio --index-url https://download.pytorch.org/whl/cu124 --user\n",
        "\n",
        "# python env install\n",
        "# !pip install torch torchvision torchaudio --index-url https://download.pytorch.org/whl/cu124"
      ]
    },
    {
      "cell_type": "code",
      "execution_count": null,
      "metadata": {
        "id": "s-8tYu8GkOkQ"
      },
      "outputs": [],
      "source": [
        "# if versions error between torchvision and torch, uninstall and reinstall together\n",
        "# !pip uninstall torch torchvision"
      ]
    },
    {
      "cell_type": "code",
      "execution_count": null,
      "metadata": {
        "id": "7BA4BuwmkOkQ"
      },
      "outputs": [],
      "source": [
        "# !pip install ultralytics"
      ]
    },
    {
      "cell_type": "markdown",
      "metadata": {
        "id": "X3A1A_R7kOkR"
      },
      "source": [
        "## Check GPU"
      ]
    },
    {
      "cell_type": "code",
      "execution_count": null,
      "metadata": {
        "colab": {
          "base_uri": "https://localhost:8080/"
        },
        "id": "tQ82qm1PkOkS",
        "outputId": "af225504-abb0-4970-f57e-768a0e41c038"
      },
      "outputs": [
        {
          "name": "stdout",
          "output_type": "stream",
          "text": [
            "Wed Mar 26 22:53:24 2025       \n",
            "+-----------------------------------------------------------------------------------------+\n",
            "| NVIDIA-SMI 550.54.15              Driver Version: 550.54.15      CUDA Version: 12.4     |\n",
            "|-----------------------------------------+------------------------+----------------------+\n",
            "| GPU  Name                 Persistence-M | Bus-Id          Disp.A | Volatile Uncorr. ECC |\n",
            "| Fan  Temp   Perf          Pwr:Usage/Cap |           Memory-Usage | GPU-Util  Compute M. |\n",
            "|                                         |                        |               MIG M. |\n",
            "|=========================================+========================+======================|\n",
            "|   0  Tesla T4                       Off |   00000000:00:04.0 Off |                    0 |\n",
            "| N/A   45C    P8              9W /   70W |       0MiB /  15360MiB |      0%      Default |\n",
            "|                                         |                        |                  N/A |\n",
            "+-----------------------------------------+------------------------+----------------------+\n",
            "                                                                                         \n",
            "+-----------------------------------------------------------------------------------------+\n",
            "| Processes:                                                                              |\n",
            "|  GPU   GI   CI        PID   Type   Process name                              GPU Memory |\n",
            "|        ID   ID                                                               Usage      |\n",
            "|=========================================================================================|\n",
            "|  No running processes found                                                             |\n",
            "+-----------------------------------------------------------------------------------------+\n"
          ]
        }
      ],
      "source": [
        "!nvidia-smi"
      ]
    },
    {
      "cell_type": "markdown",
      "metadata": {
        "id": "tqTP7BcXkOkT"
      },
      "source": [
        "### Check if torch CUDA detects GPU"
      ]
    },
    {
      "cell_type": "code",
      "execution_count": null,
      "metadata": {
        "colab": {
          "base_uri": "https://localhost:8080/"
        },
        "id": "u1vVzqWlkOkU",
        "outputId": "5b993e15-cb6b-4f04-8eff-5437d9af7a31"
      },
      "outputs": [
        {
          "name": "stdout",
          "output_type": "stream",
          "text": [
            "CUDA Available: True\n",
            "Device Count: 1\n",
            "Device Name: Tesla T4\n"
          ]
        }
      ],
      "source": [
        "import torch\n",
        "print(\"CUDA Available:\", torch.cuda.is_available())\n",
        "print(\"Device Count:\", torch.cuda.device_count())\n",
        "print(\"Device Name:\", torch.cuda.get_device_name(0) if torch.cuda.is_available() else \"No GPU\")"
      ]
    },
    {
      "cell_type": "markdown",
      "metadata": {
        "id": "JsdOIcRpkOkU"
      },
      "source": [
        "### Check Torch and Torchvision compability (nms)"
      ]
    },
    {
      "cell_type": "code",
      "execution_count": null,
      "metadata": {
        "colab": {
          "base_uri": "https://localhost:8080/"
        },
        "id": "gXawRpU1kOkV",
        "outputId": "394d0d19-c7ee-4392-cf3d-89833c697bf4"
      },
      "outputs": [
        {
          "name": "stdout",
          "output_type": "stream",
          "text": [
            "NMS result: tensor([1, 0])\n"
          ]
        }
      ],
      "source": [
        "from torchvision.ops import nms\n",
        "boxes = torch.tensor([[0, 0, 1, 1], [0, 0, 2, 2]], dtype=torch.float32)\n",
        "scores = torch.tensor([0.5, 0.9])\n",
        "iou_threshold = 0.5\n",
        "result = nms(boxes, scores, iou_threshold)\n",
        "print(\"NMS result:\", result)"
      ]
    },
    {
      "cell_type": "markdown",
      "metadata": {
        "id": "UGNoPqaKkOkV"
      },
      "source": [
        "# Imports"
      ]
    },
    {
      "cell_type": "code",
      "execution_count": null,
      "metadata": {
        "id": "OylGpByrpOhu"
      },
      "outputs": [],
      "source": [
        "# !pip install ultralytics"
      ]
    },
    {
      "cell_type": "code",
      "execution_count": null,
      "metadata": {
        "id": "rUDevaAEkOkV"
      },
      "outputs": [],
      "source": [
        "from ultralytics import YOLO\n",
        "from ultralytics import RTDETR"
      ]
    },
    {
      "cell_type": "markdown",
      "metadata": {
        "id": "AMkspTYEkOkW"
      },
      "source": [
        "# Model Training"
      ]
    },
    {
      "cell_type": "code",
      "execution_count": null,
      "metadata": {
        "colab": {
          "base_uri": "https://localhost:8080/"
        },
        "id": "L1ZGSxuUkOkW",
        "outputId": "7566da23-04f7-418d-bb6c-0081ed6d2ffd"
      },
      "outputs": [
        {
          "name": "stdout",
          "output_type": "stream",
          "text": [
            "Downloading https://github.com/ultralytics/assets/releases/download/v8.3.0/yolo11s.pt to 'yolo11s.pt'...\n"
          ]
        },
        {
          "name": "stderr",
          "output_type": "stream",
          "text": [
            "100%|██████████| 18.4M/18.4M [00:00<00:00, 216MB/s]\n"
          ]
        },
        {
          "name": "stdout",
          "output_type": "stream",
          "text": [
            "Ultralytics 8.3.96 🚀 Python-3.11.11 torch-2.6.0+cu124 CUDA:gpu (Tesla T4, 15095MiB)\n",
            "\u001b[34m\u001b[1mengine/trainer: \u001b[0mtask=detect, mode=train, model=yolo11s.pt, data=/content/drive/MyDrive/AI/Unibots25/datasets/data.yaml, epochs=25, time=None, patience=100, batch=16, imgsz=[640, 640], save=True, save_period=-1, cache=False, device=gpu, workers=8, project=None, name=train4, exist_ok=False, pretrained=True, optimizer=auto, verbose=True, seed=42, deterministic=True, single_cls=False, rect=False, cos_lr=False, close_mosaic=10, resume=False, amp=True, fraction=1.0, profile=False, freeze=None, multi_scale=False, overlap_mask=True, mask_ratio=4, dropout=0.0, val=True, split=val, save_json=False, save_hybrid=False, conf=None, iou=0.7, max_det=300, half=False, dnn=False, plots=True, source=None, vid_stride=1, stream_buffer=False, visualize=False, augment=False, agnostic_nms=False, classes=None, retina_masks=False, embed=None, show=False, save_frames=False, save_txt=False, save_conf=False, save_crop=False, show_labels=True, show_conf=True, show_boxes=True, line_width=None, format=torchscript, keras=False, optimize=False, int8=False, dynamic=False, simplify=True, opset=None, workspace=None, nms=False, lr0=0.01, lrf=0.01, momentum=0.937, weight_decay=0.0005, warmup_epochs=3.0, warmup_momentum=0.8, warmup_bias_lr=0.1, box=7.5, cls=0.5, dfl=1.5, pose=12.0, kobj=1.0, nbs=64, hsv_h=0.015, hsv_s=0.7, hsv_v=0.4, degrees=0.0, translate=0.1, scale=0.5, shear=0.0, perspective=0.0, flipud=0.0, fliplr=0.5, bgr=0.0, mosaic=1.0, mixup=0.0, copy_paste=0.0, copy_paste_mode=flip, auto_augment=randaugment, erasing=0.4, crop_fraction=1.0, cfg=None, tracker=botsort.yaml, save_dir=runs/detect/train4\n",
            "Overriding model.yaml nc=80 with nc=2\n",
            "\n",
            "                   from  n    params  module                                       arguments                     \n",
            "  0                  -1  1       928  ultralytics.nn.modules.conv.Conv             [3, 32, 3, 2]                 \n",
            "  1                  -1  1     18560  ultralytics.nn.modules.conv.Conv             [32, 64, 3, 2]                \n",
            "  2                  -1  1     26080  ultralytics.nn.modules.block.C3k2            [64, 128, 1, False, 0.25]     \n",
            "  3                  -1  1    147712  ultralytics.nn.modules.conv.Conv             [128, 128, 3, 2]              \n",
            "  4                  -1  1    103360  ultralytics.nn.modules.block.C3k2            [128, 256, 1, False, 0.25]    \n",
            "  5                  -1  1    590336  ultralytics.nn.modules.conv.Conv             [256, 256, 3, 2]              \n",
            "  6                  -1  1    346112  ultralytics.nn.modules.block.C3k2            [256, 256, 1, True]           \n",
            "  7                  -1  1   1180672  ultralytics.nn.modules.conv.Conv             [256, 512, 3, 2]              \n",
            "  8                  -1  1   1380352  ultralytics.nn.modules.block.C3k2            [512, 512, 1, True]           \n",
            "  9                  -1  1    656896  ultralytics.nn.modules.block.SPPF            [512, 512, 5]                 \n",
            " 10                  -1  1    990976  ultralytics.nn.modules.block.C2PSA           [512, 512, 1]                 \n",
            " 11                  -1  1         0  torch.nn.modules.upsampling.Upsample         [None, 2, 'nearest']          \n",
            " 12             [-1, 6]  1         0  ultralytics.nn.modules.conv.Concat           [1]                           \n",
            " 13                  -1  1    443776  ultralytics.nn.modules.block.C3k2            [768, 256, 1, False]          \n",
            " 14                  -1  1         0  torch.nn.modules.upsampling.Upsample         [None, 2, 'nearest']          \n",
            " 15             [-1, 4]  1         0  ultralytics.nn.modules.conv.Concat           [1]                           \n",
            " 16                  -1  1    127680  ultralytics.nn.modules.block.C3k2            [512, 128, 1, False]          \n",
            " 17                  -1  1    147712  ultralytics.nn.modules.conv.Conv             [128, 128, 3, 2]              \n",
            " 18            [-1, 13]  1         0  ultralytics.nn.modules.conv.Concat           [1]                           \n",
            " 19                  -1  1    345472  ultralytics.nn.modules.block.C3k2            [384, 256, 1, False]          \n",
            " 20                  -1  1    590336  ultralytics.nn.modules.conv.Conv             [256, 256, 3, 2]              \n",
            " 21            [-1, 10]  1         0  ultralytics.nn.modules.conv.Concat           [1]                           \n",
            " 22                  -1  1   1511424  ultralytics.nn.modules.block.C3k2            [768, 512, 1, True]           \n",
            " 23        [16, 19, 22]  1    820182  ultralytics.nn.modules.head.Detect           [2, [128, 256, 512]]          \n",
            "YOLO11s summary: 181 layers, 9,428,566 parameters, 9,428,550 gradients, 21.6 GFLOPs\n",
            "\n",
            "Transferred 493/499 items from pretrained weights\n",
            "\u001b[34m\u001b[1mTensorBoard: \u001b[0mStart with 'tensorboard --logdir runs/detect/train4', view at http://localhost:6006/\n",
            "Freezing layer 'model.23.dfl.conv.weight'\n",
            "\u001b[34m\u001b[1mAMP: \u001b[0mrunning Automatic Mixed Precision (AMP) checks...\n",
            "\u001b[34m\u001b[1mAMP: \u001b[0mchecks passed ✅\n",
            "WARNING ⚠️ updating to 'imgsz=640'. 'train' and 'val' imgsz must be an integer, while 'predict' and 'export' imgsz may be a [h, w] list or an integer, i.e. 'yolo export imgsz=640,480' or 'yolo export imgsz=640'\n"
          ]
        },
        {
          "name": "stderr",
          "output_type": "stream",
          "text": [
            "\u001b[34m\u001b[1mtrain: \u001b[0mScanning /content/drive/MyDrive/AI/Unibots25/datasets/labels/train.cache... 1100 images, 4 backgrounds, 0 corrupt: 100%|██████████| 1100/1100 [00:00<?, ?it/s]"
          ]
        },
        {
          "name": "stdout",
          "output_type": "stream",
          "text": [
            "\u001b[34m\u001b[1malbumentations: \u001b[0mBlur(p=0.01, blur_limit=(3, 7)), MedianBlur(p=0.01, blur_limit=(3, 7)), ToGray(p=0.01, num_output_channels=3, method='weighted_average'), CLAHE(p=0.01, clip_limit=(1.0, 4.0), tile_grid_size=(8, 8))\n"
          ]
        },
        {
          "name": "stderr",
          "output_type": "stream",
          "text": [
            "\n",
            "\u001b[34m\u001b[1mval: \u001b[0mScanning /content/drive/MyDrive/AI/Unibots25/datasets/labels/valid.cache... 100 images, 0 backgrounds, 0 corrupt: 100%|██████████| 100/100 [00:00<?, ?it/s]\n"
          ]
        },
        {
          "name": "stdout",
          "output_type": "stream",
          "text": [
            "Plotting labels to runs/detect/train4/labels.jpg... \n",
            "\u001b[34m\u001b[1moptimizer:\u001b[0m 'optimizer=auto' found, ignoring 'lr0=0.01' and 'momentum=0.937' and determining best 'optimizer', 'lr0' and 'momentum' automatically... \n",
            "\u001b[34m\u001b[1moptimizer:\u001b[0m AdamW(lr=0.001667, momentum=0.9) with parameter groups 81 weight(decay=0.0), 88 weight(decay=0.0005), 87 bias(decay=0.0)\n",
            "\u001b[34m\u001b[1mTensorBoard: \u001b[0mmodel graph visualization added ✅\n",
            "Image sizes 640 train, 640 val\n",
            "Using 2 dataloader workers\n",
            "Logging results to \u001b[1mruns/detect/train4\u001b[0m\n",
            "Starting training for 25 epochs...\n",
            "\n",
            "      Epoch    GPU_mem   box_loss   cls_loss   dfl_loss  Instances       Size\n"
          ]
        },
        {
          "name": "stderr",
          "output_type": "stream",
          "text": [
            "       1/25      4.15G      1.368      2.316      1.546         35        640: 100%|██████████| 69/69 [00:30<00:00,  2.28it/s]\n",
            "                 Class     Images  Instances      Box(P          R      mAP50  mAP50-95): 100%|██████████| 4/4 [00:01<00:00,  2.31it/s]\n"
          ]
        },
        {
          "name": "stdout",
          "output_type": "stream",
          "text": [
            "                   all        100        186      0.238      0.429      0.202      0.109\n",
            "\n",
            "      Epoch    GPU_mem   box_loss   cls_loss   dfl_loss  Instances       Size\n"
          ]
        },
        {
          "name": "stderr",
          "output_type": "stream",
          "text": [
            "       2/25      4.94G      1.415        1.6      1.546         19        640: 100%|██████████| 69/69 [00:26<00:00,  2.56it/s]\n",
            "                 Class     Images  Instances      Box(P          R      mAP50  mAP50-95): 100%|██████████| 4/4 [00:01<00:00,  2.40it/s]"
          ]
        },
        {
          "name": "stdout",
          "output_type": "stream",
          "text": [
            "                   all        100        186      0.361      0.272      0.261      0.135\n"
          ]
        },
        {
          "name": "stderr",
          "output_type": "stream",
          "text": [
            "\n"
          ]
        },
        {
          "name": "stdout",
          "output_type": "stream",
          "text": [
            "\n",
            "      Epoch    GPU_mem   box_loss   cls_loss   dfl_loss  Instances       Size\n"
          ]
        },
        {
          "name": "stderr",
          "output_type": "stream",
          "text": [
            "       3/25      4.98G      1.416      1.533      1.572         37        640: 100%|██████████| 69/69 [00:25<00:00,  2.66it/s]\n",
            "                 Class     Images  Instances      Box(P          R      mAP50  mAP50-95): 100%|██████████| 4/4 [00:01<00:00,  2.14it/s]"
          ]
        },
        {
          "name": "stdout",
          "output_type": "stream",
          "text": [
            "                   all        100        186      0.424      0.404      0.308      0.126\n"
          ]
        },
        {
          "name": "stderr",
          "output_type": "stream",
          "text": [
            "\n"
          ]
        },
        {
          "name": "stdout",
          "output_type": "stream",
          "text": [
            "\n",
            "      Epoch    GPU_mem   box_loss   cls_loss   dfl_loss  Instances       Size\n"
          ]
        },
        {
          "name": "stderr",
          "output_type": "stream",
          "text": [
            "       4/25      4.98G      1.385      1.445      1.529         28        640: 100%|██████████| 69/69 [00:26<00:00,  2.62it/s]\n",
            "                 Class     Images  Instances      Box(P          R      mAP50  mAP50-95): 100%|██████████| 4/4 [00:02<00:00,  1.80it/s]"
          ]
        },
        {
          "name": "stdout",
          "output_type": "stream",
          "text": [
            "                   all        100        186      0.477      0.366      0.344      0.165\n"
          ]
        },
        {
          "name": "stderr",
          "output_type": "stream",
          "text": [
            "\n"
          ]
        },
        {
          "name": "stdout",
          "output_type": "stream",
          "text": [
            "\n",
            "      Epoch    GPU_mem   box_loss   cls_loss   dfl_loss  Instances       Size\n"
          ]
        },
        {
          "name": "stderr",
          "output_type": "stream",
          "text": [
            "       5/25      4.98G       1.38      1.398      1.553         28        640: 100%|██████████| 69/69 [00:26<00:00,  2.57it/s]\n",
            "                 Class     Images  Instances      Box(P          R      mAP50  mAP50-95): 100%|██████████| 4/4 [00:02<00:00,  1.68it/s]"
          ]
        },
        {
          "name": "stdout",
          "output_type": "stream",
          "text": [
            "                   all        100        186      0.544      0.494      0.501      0.286\n"
          ]
        },
        {
          "name": "stderr",
          "output_type": "stream",
          "text": [
            "\n"
          ]
        },
        {
          "name": "stdout",
          "output_type": "stream",
          "text": [
            "\n",
            "      Epoch    GPU_mem   box_loss   cls_loss   dfl_loss  Instances       Size\n"
          ]
        },
        {
          "name": "stderr",
          "output_type": "stream",
          "text": [
            "       6/25      4.98G       1.35      1.286        1.5         26        640: 100%|██████████| 69/69 [00:27<00:00,  2.48it/s]\n",
            "                 Class     Images  Instances      Box(P          R      mAP50  mAP50-95): 100%|██████████| 4/4 [00:02<00:00,  1.72it/s]\n"
          ]
        },
        {
          "name": "stdout",
          "output_type": "stream",
          "text": [
            "                   all        100        186      0.513      0.591      0.517      0.318\n",
            "\n",
            "      Epoch    GPU_mem   box_loss   cls_loss   dfl_loss  Instances       Size\n"
          ]
        },
        {
          "name": "stderr",
          "output_type": "stream",
          "text": [
            "       7/25      5.02G      1.282      1.292      1.462         34        640: 100%|██████████| 69/69 [00:27<00:00,  2.52it/s]\n",
            "                 Class     Images  Instances      Box(P          R      mAP50  mAP50-95): 100%|██████████| 4/4 [00:01<00:00,  2.56it/s]"
          ]
        },
        {
          "name": "stdout",
          "output_type": "stream",
          "text": [
            "                   all        100        186      0.709      0.611       0.66      0.411\n"
          ]
        },
        {
          "name": "stderr",
          "output_type": "stream",
          "text": [
            "\n"
          ]
        },
        {
          "name": "stdout",
          "output_type": "stream",
          "text": [
            "\n",
            "      Epoch    GPU_mem   box_loss   cls_loss   dfl_loss  Instances       Size\n"
          ]
        },
        {
          "name": "stderr",
          "output_type": "stream",
          "text": [
            "       8/25      5.02G      1.221      1.148      1.401         26        640: 100%|██████████| 69/69 [00:27<00:00,  2.53it/s]\n",
            "                 Class     Images  Instances      Box(P          R      mAP50  mAP50-95): 100%|██████████| 4/4 [00:01<00:00,  2.63it/s]"
          ]
        },
        {
          "name": "stdout",
          "output_type": "stream",
          "text": [
            "                   all        100        186      0.657      0.669      0.673       0.45\n"
          ]
        },
        {
          "name": "stderr",
          "output_type": "stream",
          "text": [
            "\n"
          ]
        },
        {
          "name": "stdout",
          "output_type": "stream",
          "text": [
            "\n",
            "      Epoch    GPU_mem   box_loss   cls_loss   dfl_loss  Instances       Size\n"
          ]
        },
        {
          "name": "stderr",
          "output_type": "stream",
          "text": [
            "       9/25      5.06G      1.192      1.093      1.393         27        640: 100%|██████████| 69/69 [00:28<00:00,  2.40it/s]\n",
            "                 Class     Images  Instances      Box(P          R      mAP50  mAP50-95): 100%|██████████| 4/4 [00:01<00:00,  2.55it/s]\n"
          ]
        },
        {
          "name": "stdout",
          "output_type": "stream",
          "text": [
            "                   all        100        186      0.676      0.525      0.574      0.343\n",
            "\n",
            "      Epoch    GPU_mem   box_loss   cls_loss   dfl_loss  Instances       Size\n"
          ]
        },
        {
          "name": "stderr",
          "output_type": "stream",
          "text": [
            "      10/25       5.1G      1.196      1.055      1.384         25        640: 100%|██████████| 69/69 [00:29<00:00,  2.38it/s]\n",
            "                 Class     Images  Instances      Box(P          R      mAP50  mAP50-95): 100%|██████████| 4/4 [00:01<00:00,  2.41it/s]"
          ]
        },
        {
          "name": "stdout",
          "output_type": "stream",
          "text": [
            "                   all        100        186       0.83      0.662      0.733      0.488\n"
          ]
        },
        {
          "name": "stderr",
          "output_type": "stream",
          "text": [
            "\n"
          ]
        },
        {
          "name": "stdout",
          "output_type": "stream",
          "text": [
            "\n",
            "      Epoch    GPU_mem   box_loss   cls_loss   dfl_loss  Instances       Size\n"
          ]
        },
        {
          "name": "stderr",
          "output_type": "stream",
          "text": [
            "      11/25       5.1G      1.121     0.9875      1.323         54        640: 100%|██████████| 69/69 [00:28<00:00,  2.41it/s]\n",
            "                 Class     Images  Instances      Box(P          R      mAP50  mAP50-95): 100%|██████████| 4/4 [00:01<00:00,  2.70it/s]"
          ]
        },
        {
          "name": "stdout",
          "output_type": "stream",
          "text": [
            "                   all        100        186      0.773      0.672       0.73      0.492\n"
          ]
        },
        {
          "name": "stderr",
          "output_type": "stream",
          "text": [
            "\n"
          ]
        },
        {
          "name": "stdout",
          "output_type": "stream",
          "text": [
            "\n",
            "      Epoch    GPU_mem   box_loss   cls_loss   dfl_loss  Instances       Size\n"
          ]
        },
        {
          "name": "stderr",
          "output_type": "stream",
          "text": [
            "      12/25      5.14G       1.14     0.9614      1.337         23        640: 100%|██████████| 69/69 [00:30<00:00,  2.29it/s]\n",
            "                 Class     Images  Instances      Box(P          R      mAP50  mAP50-95): 100%|██████████| 4/4 [00:01<00:00,  2.97it/s]"
          ]
        },
        {
          "name": "stdout",
          "output_type": "stream",
          "text": [
            "                   all        100        186      0.703      0.761      0.747      0.551\n"
          ]
        },
        {
          "name": "stderr",
          "output_type": "stream",
          "text": [
            "\n"
          ]
        },
        {
          "name": "stdout",
          "output_type": "stream",
          "text": [
            "\n",
            "      Epoch    GPU_mem   box_loss   cls_loss   dfl_loss  Instances       Size\n"
          ]
        },
        {
          "name": "stderr",
          "output_type": "stream",
          "text": [
            "      13/25      5.14G      1.108      0.959      1.325         41        640: 100%|██████████| 69/69 [00:33<00:00,  2.07it/s]\n",
            "                 Class     Images  Instances      Box(P          R      mAP50  mAP50-95): 100%|██████████| 4/4 [00:02<00:00,  1.87it/s]"
          ]
        },
        {
          "name": "stdout",
          "output_type": "stream",
          "text": [
            "                   all        100        186      0.757      0.605      0.692      0.496\n"
          ]
        },
        {
          "name": "stderr",
          "output_type": "stream",
          "text": [
            "\n"
          ]
        },
        {
          "name": "stdout",
          "output_type": "stream",
          "text": [
            "\n",
            "      Epoch    GPU_mem   box_loss   cls_loss   dfl_loss  Instances       Size\n"
          ]
        },
        {
          "name": "stderr",
          "output_type": "stream",
          "text": [
            "      14/25      5.14G      1.075     0.8936      1.296         25        640: 100%|██████████| 69/69 [00:28<00:00,  2.44it/s]\n",
            "                 Class     Images  Instances      Box(P          R      mAP50  mAP50-95): 100%|██████████| 4/4 [00:03<00:00,  1.09it/s]"
          ]
        },
        {
          "name": "stdout",
          "output_type": "stream",
          "text": [
            "                   all        100        186      0.834       0.63      0.726      0.507\n"
          ]
        },
        {
          "name": "stderr",
          "output_type": "stream",
          "text": [
            "\n"
          ]
        },
        {
          "name": "stdout",
          "output_type": "stream",
          "text": [
            "\n",
            "      Epoch    GPU_mem   box_loss   cls_loss   dfl_loss  Instances       Size\n"
          ]
        },
        {
          "name": "stderr",
          "output_type": "stream",
          "text": [
            "      15/25      5.18G       1.07     0.8666      1.291         34        640: 100%|██████████| 69/69 [00:27<00:00,  2.53it/s]\n",
            "                 Class     Images  Instances      Box(P          R      mAP50  mAP50-95): 100%|██████████| 4/4 [00:02<00:00,  1.38it/s]"
          ]
        },
        {
          "name": "stdout",
          "output_type": "stream",
          "text": [
            "                   all        100        186      0.772      0.721      0.757      0.545\n"
          ]
        },
        {
          "name": "stderr",
          "output_type": "stream",
          "text": [
            "\n"
          ]
        },
        {
          "name": "stdout",
          "output_type": "stream",
          "text": [
            "Closing dataloader mosaic\n",
            "\u001b[34m\u001b[1malbumentations: \u001b[0mBlur(p=0.01, blur_limit=(3, 7)), MedianBlur(p=0.01, blur_limit=(3, 7)), ToGray(p=0.01, num_output_channels=3, method='weighted_average'), CLAHE(p=0.01, clip_limit=(1.0, 4.0), tile_grid_size=(8, 8))\n",
            "\n",
            "      Epoch    GPU_mem   box_loss   cls_loss   dfl_loss  Instances       Size\n"
          ]
        },
        {
          "name": "stderr",
          "output_type": "stream",
          "text": [
            "      16/25      5.18G      1.048     0.8295      1.279         17        640: 100%|██████████| 69/69 [00:26<00:00,  2.56it/s]\n",
            "                 Class     Images  Instances      Box(P          R      mAP50  mAP50-95): 100%|██████████| 4/4 [00:02<00:00,  1.75it/s]"
          ]
        },
        {
          "name": "stdout",
          "output_type": "stream",
          "text": [
            "                   all        100        186      0.866      0.743       0.81      0.577\n"
          ]
        },
        {
          "name": "stderr",
          "output_type": "stream",
          "text": [
            "\n"
          ]
        },
        {
          "name": "stdout",
          "output_type": "stream",
          "text": [
            "\n",
            "      Epoch    GPU_mem   box_loss   cls_loss   dfl_loss  Instances       Size\n"
          ]
        },
        {
          "name": "stderr",
          "output_type": "stream",
          "text": [
            "      17/25      5.22G     0.9981     0.7688      1.245         20        640: 100%|██████████| 69/69 [00:24<00:00,  2.76it/s]\n",
            "                 Class     Images  Instances      Box(P          R      mAP50  mAP50-95): 100%|██████████| 4/4 [00:03<00:00,  1.32it/s]"
          ]
        },
        {
          "name": "stdout",
          "output_type": "stream",
          "text": [
            "                   all        100        186      0.836      0.777      0.812      0.617\n"
          ]
        },
        {
          "name": "stderr",
          "output_type": "stream",
          "text": [
            "\n"
          ]
        },
        {
          "name": "stdout",
          "output_type": "stream",
          "text": [
            "\n",
            "      Epoch    GPU_mem   box_loss   cls_loss   dfl_loss  Instances       Size\n"
          ]
        },
        {
          "name": "stderr",
          "output_type": "stream",
          "text": [
            "      18/25      5.26G     0.9925     0.7571      1.238         20        640: 100%|██████████| 69/69 [00:24<00:00,  2.84it/s]\n",
            "                 Class     Images  Instances      Box(P          R      mAP50  mAP50-95): 100%|██████████| 4/4 [00:01<00:00,  2.42it/s]"
          ]
        },
        {
          "name": "stdout",
          "output_type": "stream",
          "text": [
            "                   all        100        186      0.805      0.785      0.833      0.594\n"
          ]
        },
        {
          "name": "stderr",
          "output_type": "stream",
          "text": [
            "\n"
          ]
        },
        {
          "name": "stdout",
          "output_type": "stream",
          "text": [
            "\n",
            "      Epoch    GPU_mem   box_loss   cls_loss   dfl_loss  Instances       Size\n"
          ]
        },
        {
          "name": "stderr",
          "output_type": "stream",
          "text": [
            "      19/25      5.26G     0.9483     0.6865      1.216         23        640: 100%|██████████| 69/69 [00:24<00:00,  2.81it/s]\n",
            "                 Class     Images  Instances      Box(P          R      mAP50  mAP50-95): 100%|██████████| 4/4 [00:02<00:00,  1.75it/s]"
          ]
        },
        {
          "name": "stdout",
          "output_type": "stream",
          "text": [
            "                   all        100        186      0.835      0.767      0.811      0.616\n"
          ]
        },
        {
          "name": "stderr",
          "output_type": "stream",
          "text": [
            "\n"
          ]
        },
        {
          "name": "stdout",
          "output_type": "stream",
          "text": [
            "\n",
            "      Epoch    GPU_mem   box_loss   cls_loss   dfl_loss  Instances       Size\n"
          ]
        },
        {
          "name": "stderr",
          "output_type": "stream",
          "text": [
            "      20/25      5.26G     0.9213     0.6696      1.196         23        640: 100%|██████████| 69/69 [00:24<00:00,  2.80it/s]\n",
            "                 Class     Images  Instances      Box(P          R      mAP50  mAP50-95): 100%|██████████| 4/4 [00:02<00:00,  2.00it/s]"
          ]
        },
        {
          "name": "stdout",
          "output_type": "stream",
          "text": [
            "                   all        100        186      0.886      0.787      0.835      0.606\n"
          ]
        },
        {
          "name": "stderr",
          "output_type": "stream",
          "text": [
            "\n"
          ]
        },
        {
          "name": "stdout",
          "output_type": "stream",
          "text": [
            "\n",
            "      Epoch    GPU_mem   box_loss   cls_loss   dfl_loss  Instances       Size\n"
          ]
        },
        {
          "name": "stderr",
          "output_type": "stream",
          "text": [
            "      21/25      5.26G     0.9065     0.6374      1.181         30        640: 100%|██████████| 69/69 [00:27<00:00,  2.54it/s]\n",
            "                 Class     Images  Instances      Box(P          R      mAP50  mAP50-95): 100%|██████████| 4/4 [00:02<00:00,  1.70it/s]"
          ]
        },
        {
          "name": "stdout",
          "output_type": "stream",
          "text": [
            "                   all        100        186      0.876      0.806      0.844      0.643\n"
          ]
        },
        {
          "name": "stderr",
          "output_type": "stream",
          "text": [
            "\n"
          ]
        },
        {
          "name": "stdout",
          "output_type": "stream",
          "text": [
            "\n",
            "      Epoch    GPU_mem   box_loss   cls_loss   dfl_loss  Instances       Size\n"
          ]
        },
        {
          "name": "stderr",
          "output_type": "stream",
          "text": [
            "      22/25      5.26G     0.8472     0.6122      1.148         16        640: 100%|██████████| 69/69 [00:25<00:00,  2.73it/s]\n",
            "                 Class     Images  Instances      Box(P          R      mAP50  mAP50-95): 100%|██████████| 4/4 [00:02<00:00,  1.67it/s]"
          ]
        },
        {
          "name": "stdout",
          "output_type": "stream",
          "text": [
            "                   all        100        186      0.866       0.81      0.855      0.652\n"
          ]
        },
        {
          "name": "stderr",
          "output_type": "stream",
          "text": [
            "\n"
          ]
        },
        {
          "name": "stdout",
          "output_type": "stream",
          "text": [
            "\n",
            "      Epoch    GPU_mem   box_loss   cls_loss   dfl_loss  Instances       Size\n"
          ]
        },
        {
          "name": "stderr",
          "output_type": "stream",
          "text": [
            "      23/25      5.26G     0.8415     0.5748      1.152         13        640: 100%|██████████| 69/69 [00:24<00:00,  2.84it/s]\n",
            "                 Class     Images  Instances      Box(P          R      mAP50  mAP50-95): 100%|██████████| 4/4 [00:02<00:00,  1.81it/s]"
          ]
        },
        {
          "name": "stdout",
          "output_type": "stream",
          "text": [
            "                   all        100        186      0.918      0.818      0.865      0.654\n"
          ]
        },
        {
          "name": "stderr",
          "output_type": "stream",
          "text": [
            "\n"
          ]
        },
        {
          "name": "stdout",
          "output_type": "stream",
          "text": [
            "\n",
            "      Epoch    GPU_mem   box_loss   cls_loss   dfl_loss  Instances       Size\n"
          ]
        },
        {
          "name": "stderr",
          "output_type": "stream",
          "text": [
            "      24/25      5.26G     0.8109     0.5541      1.131         29        640: 100%|██████████| 69/69 [00:24<00:00,  2.81it/s]\n",
            "                 Class     Images  Instances      Box(P          R      mAP50  mAP50-95): 100%|██████████| 4/4 [00:03<00:00,  1.32it/s]\n"
          ]
        },
        {
          "name": "stdout",
          "output_type": "stream",
          "text": [
            "                   all        100        186      0.889      0.855      0.873      0.662\n",
            "\n",
            "      Epoch    GPU_mem   box_loss   cls_loss   dfl_loss  Instances       Size\n"
          ]
        },
        {
          "name": "stderr",
          "output_type": "stream",
          "text": [
            "      25/25      5.26G     0.7823     0.5277      1.106         23        640: 100%|██████████| 69/69 [00:26<00:00,  2.63it/s]\n",
            "                 Class     Images  Instances      Box(P          R      mAP50  mAP50-95): 100%|██████████| 4/4 [00:02<00:00,  1.94it/s]"
          ]
        },
        {
          "name": "stdout",
          "output_type": "stream",
          "text": [
            "                   all        100        186      0.912       0.85      0.883      0.679\n"
          ]
        },
        {
          "name": "stderr",
          "output_type": "stream",
          "text": [
            "\n"
          ]
        },
        {
          "name": "stdout",
          "output_type": "stream",
          "text": [
            "\n",
            "25 epochs completed in 0.213 hours.\n",
            "Optimizer stripped from runs/detect/train4/weights/last.pt, 19.2MB\n",
            "Optimizer stripped from runs/detect/train4/weights/best.pt, 19.2MB\n",
            "\n",
            "Validating runs/detect/train4/weights/best.pt...\n",
            "Ultralytics 8.3.96 🚀 Python-3.11.11 torch-2.6.0+cu124 CUDA:gpu (Tesla T4, 15095MiB)\n",
            "YOLO11s summary (fused): 100 layers, 9,413,574 parameters, 0 gradients, 21.3 GFLOPs\n"
          ]
        },
        {
          "name": "stderr",
          "output_type": "stream",
          "text": [
            "                 Class     Images  Instances      Box(P          R      mAP50  mAP50-95): 100%|██████████| 4/4 [00:04<00:00,  1.05s/it]\n"
          ]
        },
        {
          "name": "stdout",
          "output_type": "stream",
          "text": [
            "                   all        100        186      0.913       0.85      0.882      0.678\n",
            "           rugby-balls         50         63      0.967      0.937      0.969      0.788\n",
            "        ping-pong-ball         50        123      0.859      0.764      0.796      0.569\n",
            "Speed: 0.3ms preprocess, 10.6ms inference, 0.0ms loss, 8.6ms postprocess per image\n",
            "Results saved to \u001b[1mruns/detect/train4\u001b[0m\n"
          ]
        }
      ],
      "source": [
        "# load pretrained weights (coco) (n: 20fps, s: 12.5fps)\n",
        "model = YOLO(\"yolo11s.pt\")\n",
        "\n",
        "# Only if CPU trianing\n",
        "# os.environ[\"CUDA_VISIBLE_DEVICES\"] = \"\"\n",
        "\n",
        "# fine-tune model\n",
        "yml_path_full = r\"/content/drive/MyDrive/AI/Unibots25/datasets/data.yaml\"\n",
        "results = model.train(data=yml_path_full, epochs=25, imgsz=[640, 640], device='gpu', pretrained=True, seed=42)"
      ]
    },
    {
      "cell_type": "code",
      "execution_count": 32,
      "metadata": {
        "colab": {
          "base_uri": "https://localhost:8080/",
          "height": 278
        },
        "id": "xlS4z070sMQQ",
        "outputId": "adf36376-7e03-43f9-ec27-8955ab38feed"
      },
      "outputs": [
        {
          "name": "stdout",
          "output_type": "stream",
          "text": [
            "Ultralytics 8.3.96 🚀 Python-3.11.11 torch-2.6.0+cu124 CUDA:0 (Tesla T4, 15095MiB)\n",
            "YOLO11s summary (fused): 100 layers, 9,413,574 parameters, 0 gradients, 21.3 GFLOPs\n",
            "\n",
            "\u001b[34m\u001b[1mPyTorch:\u001b[0m starting from 'runs/detect/train4/weights/best.pt' with input shape (1, 3, 640, 640) BCHW and output shape(s) (1, 300, 6) (18.3 MB)\n",
            "\n",
            "\u001b[34m\u001b[1mONNX:\u001b[0m starting export with onnx 1.17.0 opset 19...\n",
            "\u001b[34m\u001b[1mONNX:\u001b[0m slimming with onnxslim 0.1.48...\n",
            "\u001b[34m\u001b[1mONNX:\u001b[0m export success ✅ 2.6s, saved as 'runs/detect/train4/weights/best.onnx' (18.1 MB)\n",
            "\n",
            "Export complete (3.1s)\n",
            "Results saved to \u001b[1m/content/runs/detect/train4/weights\u001b[0m\n",
            "Predict:         yolo predict task=detect model=runs/detect/train4/weights/best.onnx imgsz=640 half \n",
            "Validate:        yolo val task=detect model=runs/detect/train4/weights/best.onnx imgsz=640 data=/content/drive/MyDrive/AI/Unibots25/datasets/data.yaml half \n",
            "Visualize:       https://netron.app\n"
          ]
        },
        {
          "data": {
            "application/vnd.google.colaboratory.intrinsic+json": {
              "type": "string"
            },
            "text/plain": [
              "'runs/detect/train4/weights/best.onnx'"
            ]
          },
          "execution_count": 32,
          "metadata": {},
          "output_type": "execute_result"
        }
      ],
      "source": [
        "# try half=True, might not work on some architectures\n",
        "model.export(format=\"onnx\", imgsz=640, half=True, dynamic=False, simplify=True, nms=True, batch=1, data=yml_path_full, device=0)"
      ]
    },
    {
      "cell_type": "code",
      "execution_count": 30,
      "metadata": {
        "colab": {
          "base_uri": "https://localhost:8080/",
          "height": 348
        },
        "id": "VH8y4zX_yZs7",
        "outputId": "96e90944-da4f-4071-f60f-48fa033eed4c"
      },
      "outputs": [
        {
          "name": "stdout",
          "output_type": "stream",
          "text": [
            "Ultralytics 8.3.96 🚀 Python-3.11.11 torch-2.6.0+cu124 CPU (Intel Xeon 2.20GHz)\n",
            "WARNING ⚠️ half=True and int8=True are mutually exclusive, setting half=False.\n",
            "YOLO11s summary (fused): 100 layers, 9,413,574 parameters, 0 gradients, 21.3 GFLOPs\n",
            "\n",
            "\u001b[34m\u001b[1mPyTorch:\u001b[0m starting from 'runs/detect/train4/weights/best.pt' with input shape (1, 3, 640, 640) BCHW and output shape(s) (1, 6, 8400) (18.3 MB)\n",
            "\n",
            "\u001b[34m\u001b[1mONNX:\u001b[0m starting export with onnx 1.17.0 opset 19...\n",
            "\u001b[34m\u001b[1mONNX:\u001b[0m slimming with onnxslim 0.1.48...\n",
            "\u001b[34m\u001b[1mONNX:\u001b[0m export success ✅ 2.9s, saved as 'runs/detect/train4/weights/best.onnx' (36.2 MB)\n",
            "\n",
            "\u001b[34m\u001b[1mMNN:\u001b[0m starting export with MNN 3.1.1...\n",
            "\u001b[34m\u001b[1mMNN:\u001b[0m export success ✅ 3.6s, saved as 'runs/detect/train4/weights/best.mnn' (9.3 MB)\n",
            "\n",
            "Export complete (4.7s)\n",
            "Results saved to \u001b[1m/content/runs/detect/train4/weights\u001b[0m\n",
            "Predict:         yolo predict task=detect model=runs/detect/train4/weights/best.mnn imgsz=640 int8 \n",
            "Validate:        yolo val task=detect model=runs/detect/train4/weights/best.mnn imgsz=640 data=/content/drive/MyDrive/AI/Unibots25/datasets/data.yaml int8 \n",
            "Visualize:       https://netron.app\n"
          ]
        },
        {
          "data": {
            "application/vnd.google.colaboratory.intrinsic+json": {
              "type": "string"
            },
            "text/plain": [
              "'runs/detect/train4/weights/best.mnn'"
            ]
          },
          "execution_count": 30,
          "metadata": {},
          "output_type": "execute_result"
        }
      ],
      "source": [
        "# Exporting to MNN format\n",
        "model.export(\n",
        "    format=\"mnn\",\n",
        "    imgsz=640,     # Input size: can be an int or tuple\n",
        "    batch=1,       # Batch size for inference\n",
        "    int8=True,    # Set True for INT8 quantization if desired\n",
        "    half=True,     # Set True for FP16 (half-precision) if supported by your hardware\n",
        "    data=yml_path_full\n",
        ")"
      ]
    },
    {
      "cell_type": "code",
      "execution_count": null,
      "metadata": {
        "colab": {
          "base_uri": "https://localhost:8080/",
          "height": 350
        },
        "id": "7bEKIK94zrNf",
        "outputId": "00e4a6e3-0744-4fc2-a98d-d4358fc940b1"
      },
      "outputs": [
        {
          "name": "stdout",
          "output_type": "stream",
          "text": [
            "Ultralytics 8.3.96 🚀 Python-3.11.11 torch-2.6.0+cu124 CPU (Intel Xeon 2.20GHz)\n",
            "YOLO11n summary (fused): 100 layers, 2,582,542 parameters, 0 gradients, 6.3 GFLOPs\n",
            "\n",
            "\u001b[34m\u001b[1mPyTorch:\u001b[0m starting from 'runs/detect/train3/weights/best.pt' with input shape (1, 3, 640, 640) BCHW and output shape(s) (1, 6, 8400) (5.2 MB)\n",
            "\n",
            "\u001b[34m\u001b[1mTorchScript:\u001b[0m starting export with torch 2.6.0+cu124...\n",
            "\u001b[34m\u001b[1mTorchScript:\u001b[0m export success ✅ 2.4s, saved as 'runs/detect/train3/weights/best.torchscript' (10.4 MB)\n",
            "\n",
            "\u001b[34m\u001b[1mNCNN:\u001b[0m starting export with NCNN 1.0.20241226...\n",
            "\u001b[34m\u001b[1mNCNN:\u001b[0m running '/usr/local/lib/python3.11/dist-packages/ultralytics/pnnx runs/detect/train3/weights/best.torchscript ncnnparam=runs/detect/train3/weights/best_ncnn_model/model.ncnn.param ncnnbin=runs/detect/train3/weights/best_ncnn_model/model.ncnn.bin ncnnpy=runs/detect/train3/weights/best_ncnn_model/model_ncnn.py pnnxparam=runs/detect/train3/weights/best_ncnn_model/model.pnnx.param pnnxbin=runs/detect/train3/weights/best_ncnn_model/model.pnnx.bin pnnxpy=runs/detect/train3/weights/best_ncnn_model/model_pnnx.py pnnxonnx=runs/detect/train3/weights/best_ncnn_model/model.pnnx.onnx fp16=1 device=cpu inputshape=\"[1, 3, 640, 640]\"'\n",
            "\u001b[34m\u001b[1mNCNN:\u001b[0m export success ✅ 1.9s, saved as 'runs/detect/train3/weights/best_ncnn_model' (5.1 MB)\n",
            "\n",
            "Export complete (5.1s)\n",
            "Results saved to \u001b[1m/content/runs/detect/train3/weights\u001b[0m\n",
            "Predict:         yolo predict task=detect model=runs/detect/train3/weights/best_ncnn_model imgsz=640 half \n",
            "Validate:        yolo val task=detect model=runs/detect/train3/weights/best_ncnn_model imgsz=640 data=/content/drive/MyDrive/AI/Unibots25/datasets/data.yaml half \n",
            "Visualize:       https://netron.app\n"
          ]
        },
        {
          "data": {
            "application/vnd.google.colaboratory.intrinsic+json": {
              "type": "string"
            },
            "text/plain": [
              "'runs/detect/train3/weights/best_ncnn_model'"
            ]
          },
          "execution_count": 19,
          "metadata": {},
          "output_type": "execute_result"
        }
      ],
      "source": [
        "# Exporting to NCNN format\n",
        "model.export(\n",
        "    format=\"ncnn\",\n",
        "    imgsz=640,     # Input size\n",
        "    half=True,    # Use FP16 if your target supports it (usually False for CPU)\n",
        "    batch=1        # Batch inference size\n",
        ")"
      ]
    },
    {
      "cell_type": "markdown",
      "metadata": {
        "id": "qwPg7jyAkOkY"
      },
      "source": [
        "# Setup Camera\n",
        "### Show live camera input"
      ]
    },
    {
      "cell_type": "code",
      "execution_count": null,
      "metadata": {
        "id": "aG6TgUWzkOkY"
      },
      "outputs": [],
      "source": [
        "import cv2\n",
        "import time\n",
        "\n",
        "source_id = 0"
      ]
    },
    {
      "cell_type": "code",
      "execution_count": null,
      "metadata": {
        "id": "bCsSiHAmkOkZ"
      },
      "outputs": [],
      "source": [
        "import cv2\n",
        "import matplotlib.pyplot as plt\n",
        "\n",
        "# Open the default camera (usually source 0)\n",
        "cap = cv2.VideoCapture(0)\n",
        "\n",
        "if not cap.isOpened():\n",
        "    print(\"Error: Could not open camera.\")\n",
        "    exit()\n",
        "\n",
        "while True:\n",
        "    ret, frame = cap.read()\n",
        "    if not ret:\n",
        "        print(\"Error: Could not read frame.\")\n",
        "        break\n",
        "\n",
        "    # Convert BGR (OpenCV format) to RGB (matplotlib format)\n",
        "    frame_rgb = cv2.cvtColor(frame, cv2.COLOR_BGR2RGB)\n",
        "\n",
        "    plt.imshow(frame_rgb)\n",
        "    plt.title(\"Camera Feed\")\n",
        "    plt.axis(\"off\")\n",
        "    plt.show(block=False)\n",
        "    plt.pause(0.001)\n",
        "    plt.clf()\n",
        "\n",
        "    # Optionally, break on a key press if you're running in an interactive environment\n",
        "    # (Matplotlib doesn't capture key presses like cv2.waitKey)\n",
        "cap.release()"
      ]
    },
    {
      "cell_type": "markdown",
      "metadata": {
        "id": "UFR52OrOkOkZ"
      },
      "source": [
        "### Take sample images"
      ]
    },
    {
      "cell_type": "code",
      "execution_count": null,
      "metadata": {
        "id": "4aUSpp9xkOkZ",
        "outputId": "9df11c44-2441-471d-b7b6-7116034abfa2"
      },
      "outputs": [
        {
          "name": "stdout",
          "output_type": "stream",
          "text": [
            "Captured image saved as live_cam_images/capture_000.jpg\n",
            "Captured image saved as live_cam_images/capture_001.jpg\n",
            "Captured image saved as live_cam_images/capture_002.jpg\n",
            "Captured image saved as live_cam_images/capture_003.jpg\n",
            "Captured image saved as live_cam_images/capture_004.jpg\n",
            "Captured image saved as live_cam_images/capture_005.jpg\n",
            "Captured image saved as live_cam_images/capture_006.jpg\n",
            "Captured image saved as live_cam_images/capture_007.jpg\n",
            "Capture interrupted by user.\n"
          ]
        }
      ],
      "source": [
        "import cv2\n",
        "import os\n",
        "\n",
        "output_dir = 'captured_frames'\n",
        "os.makedirs(output_dir, exist_ok=True)\n",
        "\n",
        "cap = cv2.VideoCapture(0)\n",
        "\n",
        "if not cap.isOpened():\n",
        "    print(\"Cannot open camera\")\n",
        "    exit()\n",
        "\n",
        "frame_counter = 0\n",
        "print(\"Capturing frames. Press Ctrl+C in the console to stop capturing.\")\n",
        "\n",
        "try:\n",
        "    while True:\n",
        "        ret, frame = cap.read()\n",
        "        if not ret:\n",
        "            print(\"Can't receive frame (stream end?). Exiting ...\")\n",
        "            break\n",
        "\n",
        "        # Construct filename and save frame to disk\n",
        "        filename = os.path.join(output_dir, f'frame_{frame_counter:05d}.jpg')\n",
        "        cv2.imwrite(filename, frame)\n",
        "        print(f\"Captured image saved as {filename}\")\n",
        "        frame_counter += 1\n",
        "except KeyboardInterrupt:\n",
        "    print(\"Capture stopped by user.\")\n",
        "finally:\n",
        "    cap.release()\n",
        "    print(\"Capture ended. All frames saved in:\", output_dir)"
      ]
    },
    {
      "cell_type": "markdown",
      "metadata": {
        "id": "56c_h_O_kOka"
      },
      "source": [
        "# Model Inference"
      ]
    },
    {
      "cell_type": "markdown",
      "metadata": {
        "id": "jyxuvIV3kOka"
      },
      "source": [
        "### YOLOv11"
      ]
    },
    {
      "cell_type": "code",
      "execution_count": null,
      "metadata": {
        "id": "ttgXhEvKkOka"
      },
      "outputs": [],
      "source": [
        "from ultralytics import YOLO\n",
        "import os"
      ]
    },
    {
      "cell_type": "code",
      "execution_count": null,
      "metadata": {
        "id": "P3bYDSmVkOka",
        "outputId": "372bb963-ccf2-436d-e2a5-529c77aa09d9"
      },
      "outputs": [
        {
          "name": "stdout",
          "output_type": "stream",
          "text": [
            "\n",
            "0: 480x640 1 ping-pong-ball, 50.9ms\n",
            "1: 480x640 2 ping-pong-balls, 50.9ms\n",
            "2: 480x640 1 ping-pong-ball, 50.9ms\n",
            "3: 480x640 3 ping-pong-balls, 50.9ms\n",
            "Speed: 4.4ms preprocess, 50.9ms inference, 1.5ms postprocess per image at shape (1, 3, 480, 640)\n",
            "Results saved to \u001b[1mruns\\detect\\predict4\u001b[0m\n",
            "Predictions are stored in: c:\\Users\\Marlo\\Documents\\code\\QMUL-Societies\\QMES\\Unibots-karl\\Computer_Vision\\runs\\detect\\predict4\n",
            "Predictions are stored in: c:\\Users\\Marlo\\Documents\\code\\QMUL-Societies\\QMES\\Unibots-karl\\Computer_Vision\\runs\\detect\\predict4\n",
            "Predictions are stored in: c:\\Users\\Marlo\\Documents\\code\\QMUL-Societies\\QMES\\Unibots-karl\\Computer_Vision\\runs\\detect\\predict4\n",
            "Predictions are stored in: c:\\Users\\Marlo\\Documents\\code\\QMUL-Societies\\QMES\\Unibots-karl\\Computer_Vision\\runs\\detect\\predict4\n"
          ]
        }
      ],
      "source": [
        "model = YOLO(r\"C:\\Users\\Marlo\\Documents\\code\\QMUL-Societies\\QMES\\Unibots-karl\\Computer_Vision\\runs\\detect\\train14\\weights\\best.pt\")  # pretrained YOLO11n model\n",
        "\n",
        "paths = [r\"C:\\Users\\Marlo\\Documents\\code\\QMUL-Societies\\QMES\\Unibots-karl\\Computer_Vision\\dataset-creation\\test-data\\pic1.jpg\",\n",
        "        r\"C:\\Users\\Marlo\\Documents\\code\\QMUL-Societies\\QMES\\Unibots-karl\\Computer_Vision\\dataset-creation\\test-data\\pic2.jpg\",\n",
        "        r\"C:\\Users\\Marlo\\Documents\\code\\QMUL-Societies\\QMES\\Unibots-karl\\Computer_Vision\\dataset-creation\\test-data\\pic3.jpg\",\n",
        "        r\"C:\\Users\\Marlo\\Documents\\code\\QMUL-Societies\\QMES\\Unibots-karl\\Computer_Vision\\dataset-creation\\test-data\\pic4.jpg\"]\n",
        "paths = [r\"C:\\Users\\Marlo\\Documents\\code\\QMUL-Societies\\QMES\\Unibots-karl\\Computer_Vision\\live_cam_images\\capture_004.jpg\",\n",
        "         r\"C:\\Users\\Marlo\\Documents\\code\\QMUL-Societies\\QMES\\Unibots-karl\\Computer_Vision\\live_cam_images\\capture_005.jpg\",\n",
        "         r\"C:\\Users\\Marlo\\Documents\\code\\QMUL-Societies\\QMES\\Unibots-karl\\Computer_Vision\\live_cam_images\\capture_006.jpg\",\n",
        "         r\"C:\\Users\\Marlo\\Documents\\code\\QMUL-Societies\\QMES\\Unibots-karl\\Computer_Vision\\live_cam_images\\capture_007.jpg\"]\n",
        "\n",
        "# Run batched inference on a list of images\n",
        "results = model(paths, conf=0.45, save=True)  # return a list of Results objects\n",
        "\n",
        "# Process results list\n",
        "for result in results:\n",
        "    boxes = result.boxes  # Boxes object for bounding box outputs\n",
        "    masks = result.masks  # Masks object for segmentation masks outputs\n",
        "    keypoints = result.keypoints  # Keypoints object for pose outputs\n",
        "    probs = result.probs  # Probs object for classification outputs\n",
        "    obb = result.obb  # Oriented boxes object for OBB outputs\n",
        "    # result.show()  # display to screen\n",
        "    result.save()  # save to disk\n",
        "    full_path = os.path.abspath(result.save_dir)\n",
        "    print(f\"Predictions are stored in: {full_path}\")"
      ]
    },
    {
      "cell_type": "markdown",
      "metadata": {
        "id": "ZhxbAnzdkOkb"
      },
      "source": [
        "### Live Camera Input (YOLOv11)"
      ]
    },
    {
      "cell_type": "code",
      "execution_count": null,
      "metadata": {
        "id": "Z3AeKS5hkOkb"
      },
      "outputs": [],
      "source": [
        "model = YOLO(r\"C:\\Users\\Marlo\\Documents\\code\\QMUL-Societies\\QMES\\Unibots-karl\\Computer_Vision\\runs\\detect\\train14\\weights\\best.pt\")\n",
        "\n",
        "results = model(0, stream=True)\n",
        "\n",
        "for result in results:\n",
        "    print(\"start\")\n",
        "    boxes = result.boxes  # Boxes object for bounding box outputs\n",
        "    masks = result.masks  # Masks object for segmentation masks outputs\n",
        "    keypoints = result.keypoints  # Keypoints object for pose outputs\n",
        "    probs = result.probs  # Probs object for classification outputs\n",
        "    obb = result.obb  # Oriented boxes object for OBB outputs\n",
        "    # result.show()  # display to screen\n",
        "    result.save()  # save to disk\n",
        "    print(\"finished - wait\")\n",
        "    time.sleep(3)\n",
        "    print(\"finished wait - next\")"
      ]
    },
    {
      "cell_type": "markdown",
      "metadata": {
        "id": "Vjg6mECTkOkc"
      },
      "source": [
        "### Unibots Integration"
      ]
    },
    {
      "cell_type": "code",
      "execution_count": null,
      "metadata": {
        "id": "xRWbnkEAkOkc"
      },
      "outputs": [],
      "source": [
        "def ball_detection(img, camera, model):\n",
        "    x_center_int = None\n",
        "    try:\n",
        "        # Get image dimensions\n",
        "        width = camera.getWidth()\n",
        "        height = camera.getHeight()\n",
        "\n",
        "        # Convert the raw image data to a NumPy array\n",
        "        img_array = np.frombuffer(img, dtype=np.uint8).reshape((height, width, 4))\n",
        "\n",
        "        # Convert RGBA to RGB by removing the alpha channel\n",
        "        img_rgb = img_array[:, :, :3]\n",
        "\n",
        "        # Create a PIL Image from the NumPy array\n",
        "        image = Image.fromarray(img_rgb)\n",
        "        image_np = np.array(image)\n",
        "        print(\"Model inference starting...\")\n",
        "\n",
        "        # Run the YOLOv11 model on the image\n",
        "        results = model(image_np, conf=CONFIDENCE_THRESHOLD, save=True)\n",
        "\n",
        "        # Process and print detected objects\n",
        "        result = results[0]  # Since there's only one image\n",
        "        boxes = result.boxes  # Boxes object for bounding box outputs\n",
        "        if boxes:\n",
        "            for box in boxes:\n",
        "                # Extract the bounding box coordinates (x1, y1, x2, y2)\n",
        "                x1, y1, x2, y2 = box.xyxy[0]\n",
        "                print(box.xyxy)\n",
        "                # Calculate the center x position\n",
        "                x_center = (x1 + x2) / 2\n",
        "\n",
        "                # Convert to integer\n",
        "                x_center_int = int(x_center.item())\n",
        "        else:\n",
        "            print(\"Image 0: []\")\n",
        "\n",
        "    except Exception as e:\n",
        "        print(f\"Error during image processing or detection: {e}\")\n",
        "    return x_center_int"
      ]
    },
    {
      "cell_type": "markdown",
      "metadata": {
        "id": "NfYqSwqxkOkc"
      },
      "source": [
        "### RT-DETR"
      ]
    },
    {
      "cell_type": "code",
      "execution_count": null,
      "metadata": {
        "id": "Keoa8TUQkOkc"
      },
      "outputs": [],
      "source": [
        "# load pretrained weights (coco)\n",
        "model = RTDETR(\"rtdetr-l.pt\")\n",
        "model.info()\n",
        "\n",
        "# fine-tune model\n",
        "yml_path = r\"C:\\Users\\Marlo\\code\\QMUL-Societies\\Electronics\\Unibots\\Computer_Vision\\dataset-creation\\full-data\\data.yaml\"\n",
        "results = model.train(data=yml_path, epochs=200, imgsz=640)\n",
        "\n",
        "# inference\n",
        "results = model(\"training-data\\comp-vid-24.mp4\", save=True)"
      ]
    }
  ],
  "metadata": {
    "accelerator": "GPU",
    "colab": {
      "gpuType": "T4",
      "provenance": []
    },
    "kernelspec": {
      "display_name": "Python 3",
      "name": "python3"
    },
    "language_info": {
      "codemirror_mode": {
        "name": "ipython",
        "version": 3
      },
      "file_extension": ".py",
      "mimetype": "text/x-python",
      "name": "python",
      "nbconvert_exporter": "python",
      "pygments_lexer": "ipython3",
      "version": "3.10.11"
    }
  },
  "nbformat": 4,
  "nbformat_minor": 0
}
